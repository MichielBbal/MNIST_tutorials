{
 "cells": [
  {
   "cell_type": "markdown",
   "metadata": {
    "id": "zUWF7J_ASRv3"
   },
   "source": [
    "# Herkenning van handgeschreven cijfers met CNN's\n",
    "\n",
    "- Minor AAI - Hogeschool van Amsterdam\n",
    "- Docenten: Frank Aldershoff & Michiel Bontenbal\n",
    "- 15 september 2023\n",
    "\n",
    "### Boek & tutorials:\n",
    "\n",
    "**Deep Learning with Python - Francois Chollet - Chapter 8**\n",
    "- https://learning-oreilly-com.rps.hva.nl/library/view/deep-learning-with/9781617296864/\n",
    "\n",
    "**Tutorials**\n",
    "- https://keras.io/examples/vision/mnist_convnet/ \n",
    "- https://www.geeksforgeeks.org/applying-convolutional-neural-network-on-mnist-dataset/ "
   ]
  },
  {
   "cell_type": "markdown",
   "metadata": {
    "id": "cRKUniK0SfRg"
   },
   "source": [
    "## Importeer libraries"
   ]
  },
  {
   "cell_type": "code",
   "execution_count": 25,
   "metadata": {
    "id": "S-aMKgrbSl6I"
   },
   "outputs": [],
   "source": [
    "import numpy as np\n",
    "\n",
    "import matplotlib.pyplot as plt\n",
    "import seaborn as sns; sns.set()\n",
    "\n",
    "from tensorflow.keras.utils import to_categorical\n",
    "from keras import models, layers\n",
    "\n",
    "from keras.datasets import mnist\n",
    "from keras.layers import Dense, Dropout, Flatten, Conv2D, MaxPooling2D, AveragePooling2D"
   ]
  },
  {
   "cell_type": "code",
   "execution_count": 1,
   "metadata": {},
   "outputs": [
    {
     "name": "stdout",
     "output_type": "stream",
     "text": [
      "3.10.9\n"
     ]
    }
   ],
   "source": [
    "from platform import python_version\n",
    "print(python_version())"
   ]
  },
  {
   "cell_type": "code",
   "execution_count": 3,
   "metadata": {},
   "outputs": [
    {
     "name": "stderr",
     "output_type": "stream",
     "text": [
      "2023-09-15 10:31:27.115675: I tensorflow/core/platform/cpu_feature_guard.cc:182] This TensorFlow binary is optimized to use available CPU instructions in performance-critical operations.\n",
      "To enable the following instructions: AVX2 FMA, in other operations, rebuild TensorFlow with the appropriate compiler flags.\n"
     ]
    },
    {
     "data": {
      "text/plain": [
       "'2.13.1'"
      ]
     },
     "execution_count": 3,
     "metadata": {},
     "output_type": "execute_result"
    }
   ],
   "source": [
    "import keras\n",
    "keras.__version__"
   ]
  },
  {
   "cell_type": "markdown",
   "metadata": {
    "id": "oe0on0c2StYe"
   },
   "source": [
    "## Verover de data\n",
    "\n",
    "De MNIST-dataset is onderdeel van Keras en kan met het volgende commando worden ingeladen:"
   ]
  },
  {
   "cell_type": "code",
   "execution_count": 2,
   "metadata": {
    "colab": {
     "base_uri": "https://localhost:8080/"
    },
    "id": "gh2EoCY-Ssg7",
    "outputId": "f52aab3d-b6e9-4490-d5db-612f49a18e1b"
   },
   "outputs": [],
   "source": [
    "#load mnist and assing to train and test set\n",
    "from keras.datasets import mnist\n",
    "(train_images, train_labels), (test_images, test_labels) = mnist.load_data()"
   ]
  },
  {
   "cell_type": "code",
   "execution_count": 3,
   "metadata": {
    "colab": {
     "base_uri": "https://localhost:8080/"
    },
    "id": "7FlNpFtxSrMQ",
    "outputId": "a51d1184-a362-42ee-86cd-50dd4bd018b0"
   },
   "outputs": [
    {
     "data": {
      "text/plain": [
       "(60000, 28, 28)"
      ]
     },
     "execution_count": 3,
     "metadata": {},
     "output_type": "execute_result"
    }
   ],
   "source": [
    "train_images.shape"
   ]
  },
  {
   "cell_type": "code",
   "execution_count": 4,
   "metadata": {
    "colab": {
     "base_uri": "https://localhost:8080/"
    },
    "id": "284h06knTBBG",
    "outputId": "94093e08-c64b-4a51-97d3-d4907c1df7ef"
   },
   "outputs": [
    {
     "name": "stdout",
     "output_type": "stream",
     "text": [
      "[5 0 4 ... 5 6 8]\n"
     ]
    }
   ],
   "source": [
    "print(train_labels)"
   ]
  },
  {
   "cell_type": "code",
   "execution_count": 5,
   "metadata": {
    "colab": {
     "base_uri": "https://localhost:8080/"
    },
    "id": "FBfuBT6ATHyg",
    "outputId": "f6a74f22-c809-4078-a46c-a55b86f0a39b"
   },
   "outputs": [
    {
     "data": {
      "text/plain": [
       "(60000,)"
      ]
     },
     "execution_count": 5,
     "metadata": {},
     "output_type": "execute_result"
    }
   ],
   "source": [
    "train_labels.shape"
   ]
  },
  {
   "cell_type": "markdown",
   "metadata": {
    "id": "jG7BXYcRYY5a"
   },
   "source": [
    "## Prepareer de images"
   ]
  },
  {
   "cell_type": "code",
   "execution_count": 6,
   "metadata": {
    "colab": {
     "base_uri": "https://localhost:8080/"
    },
    "id": "dDYk2OREYbGD",
    "outputId": "4c29d829-f413-4789-e870-6611d63cf72a"
   },
   "outputs": [
    {
     "data": {
      "text/plain": [
       "(60000, 28, 28)"
      ]
     },
     "execution_count": 6,
     "metadata": {},
     "output_type": "execute_result"
    }
   ],
   "source": [
    "train_images.shape"
   ]
  },
  {
   "cell_type": "code",
   "execution_count": 7,
   "metadata": {
    "id": "bafaBFuypcEY"
   },
   "outputs": [],
   "source": [
    "train_images_normalized = train_images.astype('float32')/255"
   ]
  },
  {
   "cell_type": "code",
   "execution_count": 8,
   "metadata": {
    "id": "qPLYzqeeYeV0"
   },
   "outputs": [],
   "source": [
    "train_images_enhanced = train_images_normalized.reshape(60000,28,28,1)"
   ]
  },
  {
   "cell_type": "code",
   "execution_count": 9,
   "metadata": {
    "colab": {
     "base_uri": "https://localhost:8080/"
    },
    "id": "h3vOWjp2YwS_",
    "outputId": "aaba4242-1580-4a28-f967-c16c39301fff"
   },
   "outputs": [
    {
     "data": {
      "text/plain": [
       "(60000, 28, 28, 1)"
      ]
     },
     "execution_count": 9,
     "metadata": {},
     "output_type": "execute_result"
    }
   ],
   "source": [
    "train_images_enhanced.shape"
   ]
  },
  {
   "cell_type": "code",
   "execution_count": 10,
   "metadata": {
    "id": "Rt4W7_fIYyuA"
   },
   "outputs": [],
   "source": [
    "test_images_normalized = test_images.astype('float32')/255\n",
    "test_images_enhanced = test_images_normalized.reshape(10000,28,28,1)"
   ]
  },
  {
   "cell_type": "code",
   "execution_count": 11,
   "metadata": {
    "colab": {
     "base_uri": "https://localhost:8080/"
    },
    "id": "4C3y58dJY5tp",
    "outputId": "a9253636-a47e-4c43-89e1-49e5d7164dc2"
   },
   "outputs": [
    {
     "data": {
      "text/plain": [
       "(10000, 28, 28, 1)"
      ]
     },
     "execution_count": 11,
     "metadata": {},
     "output_type": "execute_result"
    }
   ],
   "source": [
    "test_images_enhanced.shape"
   ]
  },
  {
   "cell_type": "markdown",
   "metadata": {
    "id": "jb2JCpgYUWlu"
   },
   "source": [
    "## Prepareer de labels"
   ]
  },
  {
   "cell_type": "markdown",
   "metadata": {
    "id": "xB3XhWK_D_ZW"
   },
   "source": [
    "**OPDRACHT**: introduceer \"one-hot encoding\" voor de labels (zowel train set als de test set)"
   ]
  },
  {
   "cell_type": "code",
   "execution_count": 12,
   "metadata": {
    "colab": {
     "base_uri": "https://localhost:8080/"
    },
    "id": "GKRqlPkMU6tj",
    "outputId": "4bf786ce-a08f-4074-9299-1618b6ee2e71"
   },
   "outputs": [
    {
     "data": {
      "text/plain": [
       "array([5, 0, 4, ..., 5, 6, 8], dtype=uint8)"
      ]
     },
     "execution_count": 12,
     "metadata": {},
     "output_type": "execute_result"
    }
   ],
   "source": [
    "train_labels"
   ]
  },
  {
   "cell_type": "code",
   "execution_count": 13,
   "metadata": {
    "id": "8_Jmmw6MUOy-"
   },
   "outputs": [],
   "source": [
    "train_labels_encoded = to_categorical(train_labels)\n",
    "test_labels_encoded = to_categorical(test_labels)"
   ]
  },
  {
   "cell_type": "code",
   "execution_count": 29,
   "metadata": {
    "colab": {
     "base_uri": "https://localhost:8080/"
    },
    "id": "7V_g1CMBUb_7",
    "outputId": "b2fe5641-d4c5-4e33-bbb9-a2851e787f60"
   },
   "outputs": [
    {
     "data": {
      "text/plain": [
       "array([0., 0., 0., 0., 0., 1., 0., 0., 0., 0.], dtype=float32)"
      ]
     },
     "execution_count": 29,
     "metadata": {},
     "output_type": "execute_result"
    }
   ],
   "source": [
    "train_labels_encoded[0]"
   ]
  },
  {
   "cell_type": "code",
   "execution_count": 28,
   "metadata": {},
   "outputs": [
    {
     "data": {
      "text/plain": [
       "60000"
      ]
     },
     "execution_count": 28,
     "metadata": {},
     "output_type": "execute_result"
    }
   ],
   "source": [
    "train_labels_encoded.shape"
   ]
  },
  {
   "cell_type": "markdown",
   "metadata": {
    "id": "m_2zOWq_ZAY-"
   },
   "source": [
    "## Definieer netwerk / model"
   ]
  },
  {
   "cell_type": "markdown",
   "metadata": {
    "id": "_cS-T3cWEfZh"
   },
   "source": [
    "**OPDRACHT**: voeg nog een convolutie laag en nog een volledig verbonden laag toe"
   ]
  },
  {
   "cell_type": "code",
   "execution_count": 15,
   "metadata": {
    "id": "yfUEGL0bY77-"
   },
   "outputs": [],
   "source": [
    "cnn = models.Sequential()\n",
    "\n",
    "cnn.add(Conv2D(filters=32,\n",
    "                  kernel_size=(3, 3),\n",
    "                  activation='relu', \n",
    "                  input_shape=(28,28,1)))\n",
    "cnn.add(AveragePooling2D())\n",
    "\n",
    "\n",
    "cnn.add(Conv2D(filters=64,\n",
    "                         kernel_size=(3, 3),\n",
    "                         activation='relu'))\n",
    "cnn.add(AveragePooling2D())\n",
    "cnn.add(Flatten())\n",
    "cnn.add(Dropout(0.5))\n",
    "\n",
    "cnn.add(Dense(units=64, activation='relu'))\n",
    "cnn.add(Dense(units=10, activation = 'softmax'))"
   ]
  },
  {
   "cell_type": "code",
   "execution_count": 16,
   "metadata": {
    "colab": {
     "base_uri": "https://localhost:8080/"
    },
    "id": "XsJ8orLUZRR5",
    "outputId": "b22c4db0-254b-4e86-83e3-76131e183e1c"
   },
   "outputs": [
    {
     "name": "stdout",
     "output_type": "stream",
     "text": [
      "Model: \"sequential\"\n",
      "_________________________________________________________________\n",
      " Layer (type)                Output Shape              Param #   \n",
      "=================================================================\n",
      " conv2d (Conv2D)             (None, 26, 26, 32)        320       \n",
      "                                                                 \n",
      " average_pooling2d (Average  (None, 13, 13, 32)        0         \n",
      " Pooling2D)                                                      \n",
      "                                                                 \n",
      " conv2d_1 (Conv2D)           (None, 11, 11, 64)        18496     \n",
      "                                                                 \n",
      " average_pooling2d_1 (Avera  (None, 5, 5, 64)          0         \n",
      " gePooling2D)                                                    \n",
      "                                                                 \n",
      " flatten (Flatten)           (None, 1600)              0         \n",
      "                                                                 \n",
      " dropout (Dropout)           (None, 1600)              0         \n",
      "                                                                 \n",
      " dense (Dense)               (None, 64)                102464    \n",
      "                                                                 \n",
      " dense_1 (Dense)             (None, 10)                650       \n",
      "                                                                 \n",
      "=================================================================\n",
      "Total params: 121930 (476.29 KB)\n",
      "Trainable params: 121930 (476.29 KB)\n",
      "Non-trainable params: 0 (0.00 Byte)\n",
      "_________________________________________________________________\n"
     ]
    }
   ],
   "source": [
    "cnn.summary()"
   ]
  },
  {
   "cell_type": "code",
   "execution_count": 17,
   "metadata": {
    "id": "FXYJJMAJa_Tf"
   },
   "outputs": [],
   "source": [
    "cnn.compile(optimizer='adam',\n",
    "            metrics = ['accuracy'],\n",
    "            loss = 'categorical_crossentropy')"
   ]
  },
  {
   "cell_type": "markdown",
   "metadata": {
    "id": "qQqs0gLGGony"
   },
   "source": [
    "**OPDRACHT**: meet hoe lang het trainen duurt\n"
   ]
  },
  {
   "cell_type": "code",
   "execution_count": 21,
   "metadata": {
    "colab": {
     "base_uri": "https://localhost:8080/"
    },
    "id": "fsCH8KqEbR2P",
    "outputId": "e3d03e5d-e3e7-4225-ba65-605eb2d295aa"
   },
   "outputs": [
    {
     "name": "stdout",
     "output_type": "stream",
     "text": [
      "Epoch 1/3\n",
      "469/469 [==============================] - 17s 35ms/step - loss: 0.0173 - accuracy: 0.9945 - val_loss: 0.0261 - val_accuracy: 0.9914\n",
      "Epoch 2/3\n",
      "469/469 [==============================] - 17s 37ms/step - loss: 0.0170 - accuracy: 0.9941 - val_loss: 0.0234 - val_accuracy: 0.9920\n",
      "Epoch 3/3\n",
      "469/469 [==============================] - 18s 38ms/step - loss: 0.0176 - accuracy: 0.9941 - val_loss: 0.0226 - val_accuracy: 0.9921\n"
     ]
    }
   ],
   "source": [
    "history_cnn = cnn.fit(\n",
    "        train_images_enhanced,\n",
    "        train_labels_encoded,\n",
    "        epochs = 3,\n",
    "        batch_size = 128,\n",
    "        validation_data = (test_images_enhanced, test_labels_encoded)\n",
    "        )"
   ]
  },
  {
   "cell_type": "code",
   "execution_count": 22,
   "metadata": {},
   "outputs": [],
   "source": [
    "history = cnn.fit"
   ]
  },
  {
   "cell_type": "code",
   "execution_count": 23,
   "metadata": {},
   "outputs": [
    {
     "data": {
      "text/plain": [
       "<keras.src.callbacks.History at 0x7fe36ebd29e0>"
      ]
     },
     "execution_count": 23,
     "metadata": {},
     "output_type": "execute_result"
    }
   ],
   "source": [
    "history_cnn"
   ]
  },
  {
   "cell_type": "markdown",
   "metadata": {
    "id": "hYi1uJV-Gxgn"
   },
   "source": [
    "**OPDRACHT**: meet hoe lang het testen duurt"
   ]
  },
  {
   "cell_type": "code",
   "execution_count": 24,
   "metadata": {
    "colab": {
     "base_uri": "https://localhost:8080/"
    },
    "id": "S52r-pcHbtJJ",
    "outputId": "4a887c82-761c-44fa-86a6-d0fd48ce0300",
    "scrolled": true
   },
   "outputs": [
    {
     "name": "stdout",
     "output_type": "stream",
     "text": [
      "313/313 [==============================] - 1s 3ms/step - loss: 0.0226 - accuracy: 0.9921\n",
      "0.9921000003814697\n",
      "313/313 [==============================] - 1s 3ms/step - loss: 0.0226 - accuracy: 0.9921\n",
      "0.9921000003814697\n",
      "313/313 [==============================] - 1s 3ms/step - loss: 0.0226 - accuracy: 0.9921\n",
      "0.9921000003814697\n",
      "313/313 [==============================] - 1s 3ms/step - loss: 0.0226 - accuracy: 0.9921\n",
      "0.9921000003814697\n",
      "313/313 [==============================] - 1s 3ms/step - loss: 0.0226 - accuracy: 0.9921\n",
      "0.9921000003814697\n",
      "313/313 [==============================] - 1s 3ms/step - loss: 0.0226 - accuracy: 0.9921\n",
      "0.9921000003814697\n",
      "313/313 [==============================] - 1s 2ms/step - loss: 0.0226 - accuracy: 0.9921\n",
      "0.9921000003814697\n",
      "313/313 [==============================] - 1s 2ms/step - loss: 0.0226 - accuracy: 0.9921\n",
      "0.9921000003814697\n",
      "887 ms ± 84.8 ms per loop (mean ± std. dev. of 7 runs, 1 loop each)\n"
     ]
    }
   ],
   "source": [
    "%%timeit\n",
    "loss, acc = cnn.evaluate(test_images_enhanced,\n",
    "                         test_labels_encoded)\n",
    "\n",
    "print(acc)"
   ]
  },
  {
   "cell_type": "code",
   "execution_count": 26,
   "metadata": {
    "colab": {
     "base_uri": "https://localhost:8080/",
     "height": 269
    },
    "id": "fspLE94uj_0p",
    "outputId": "fe013ce6-10a1-4585-e1a8-eddf471cdca9"
   },
   "outputs": [
    {
     "data": {
      "image/png": "[encoded data removed]",
      "text/plain": [
       "<Figure size 640x480 with 1 Axes>"
      ]
     },
     "metadata": {},
     "output_type": "display_data"
    }
   ],
   "source": [
    "plt.plot(history_cnn.history['accuracy'])\n",
    "plt.plot(history_cnn.history['val_accuracy'],'r')\n",
    "plt.ylim(0.75,1.0)\n",
    "plt.show()"
   ]
  },
  {
   "cell_type": "markdown",
   "metadata": {
    "id": "PKVFGXpIFa-v"
   },
   "source": [
    "**OPDRACHT**: evalueer je resultaten:\n",
    "\n",
    "* hoe is de nauwkeurigheid?\n",
    "* is het netwerk onder- of over-trained?\n",
    "* laat een paar fouten zien\n",
    " * wat kun je zeggen over de aard van de fouten?\n",
    "* wat is sneller: het trainen of het testen?\n",
    "* wat kun je nog doen om de nauwkeurigheid te verhogen?\n",
    "\n",
    "(noteer de veranderingen die je hebt aangebracht en wat daar de resultaten van zijn)"
   ]
  },
  {
   "cell_type": "markdown",
   "metadata": {
    "id": "ycBT1S6wIK7y"
   },
   "source": [
    "## Evalueer cijferherkenning met kNN, NN, en CNN"
   ]
  },
  {
   "cell_type": "markdown",
   "metadata": {
    "id": "xm7oOIZxGFYw"
   },
   "source": [
    "**OPDRACHT**: evalueer je resultaten:\n",
    "\n",
    "vergelijk de resultaten van kNN, NN, en CNN\n",
    "\n",
    "* wat concludeer je hieruit?\n",
    "* welke type fouten maken de verschillende classifiers?\n",
    "\n",
    "\n"
   ]
  },
  {
   "cell_type": "markdown",
   "metadata": {
    "id": "xTdfwGeRGjCB"
   },
   "source": [
    "## To do:\n",
    "- Upload het notebook naar Gitlab\n",
    "- Maak aantekening in je Logboek en werk je Bloom-tabel bij. "
   ]
  },
  {
   "cell_type": "code",
   "execution_count": null,
   "metadata": {},
   "outputs": [],
   "source": []
  }
 ],
 "metadata": {
  "accelerator": "GPU",
  "colab": {
   "name": "2021_02_11 MNIST CNN uitwerking.ipynb",
   "provenance": []
  },
  "kernelspec": {
   "display_name": "Python 3 (ipykernel)",
   "language": "python",
   "name": "python3"
  },
  "language_info": {
   "codemirror_mode": {
    "name": "ipython",
    "version": 3
   },
   "file_extension": ".py",
   "mimetype": "text/x-python",
   "name": "python",
   "nbconvert_exporter": "python",
   "pygments_lexer": "ipython3",
   "version": "3.10.9"
  }
 },
 "nbformat": 4,
 "nbformat_minor": 4
}
